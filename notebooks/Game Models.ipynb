{
 "cells": [
  {
   "cell_type": "markdown",
   "metadata": {},
   "source": [
    "### Data Model\n",
    "\n",
    "`SeasonData`\n",
    "\n",
    "* `season_name` (string)\n",
    "* `num_rounds` (int)\n",
    "* `players` (list[PlayerData])\n",
    "\n",
    "`PlayerData`\n",
    "\n",
    "* `player` (Player)\n",
    "* `prices` (list[float])\n",
    "* `scores` (list[float])\n",
    "* `status` (list[PlayerStatus])\n",
    "\n",
    "`Player`\n",
    "\n",
    "* `name` (string)\n",
    "* `position` (Position)\n",
    "\n",
    "`Position` (enum)\n",
    "\n",
    "* `GOALKEEPER`\n",
    "* `WINGER`\n",
    "* `DEFENDER`\n",
    "* `MIDFIELDER`\n",
    "* `FORWARD`\n",
    "* `COACH`\n",
    "\n",
    "`PlayerStatus` (enum)\n",
    "\n",
    "* `POSSIBLE`\n",
    "* `INJURED`\n",
    "* `NULL`\n",
    "* `DOUBT`\n",
    "* `SUSPENDED`\n",
    "* `UNKNOWN`"
   ]
  },
  {
   "cell_type": "code",
   "execution_count": 1,
   "metadata": {
    "collapsed": true
   },
   "outputs": [],
   "source": [
    "from enum import Enum\n",
    "\n",
    "class Position(Enum):\n",
    "    \n",
    "    GOALKEEPER = 'Goleiro'\n",
    "    WINGER = 'Lateral'\n",
    "    DEFENDER = 'Zagueiro'\n",
    "    MIDFIELDER = 'Meia'\n",
    "    FORWARD = 'Atacante'\n",
    "    COACH = 'Técnico'\n",
    "    \n",
    "    def __str__(self):\n",
    "        return self.value\n",
    "\n",
    "assert '{}'.format(Position.GOALKEEPER) == 'Goleiro'\n",
    "assert Position.GOALKEEPER == Position('Goleiro')\n",
    "assert len(Position) == 6"
   ]
  },
  {
   "cell_type": "code",
   "execution_count": 2,
   "metadata": {
    "collapsed": true
   },
   "outputs": [],
   "source": [
    "from collections import namedtuple\n",
    "\n",
    "class Player(namedtuple('Player', ['name', 'position'])):\n",
    "    __slots__ = ()\n",
    "    \n",
    "    def __str__(self):\n",
    "        return '{} ({})'.format(*self)\n",
    "\n",
    "assert Player('x', Position.GOALKEEPER) == Player('x', Position.GOALKEEPER)\n",
    "assert Player('x', Position.GOALKEEPER) != Player('y', Position.GOALKEEPER)\n",
    "assert str(Player('x', Position.GOALKEEPER)) == 'x (Goleiro)'"
   ]
  },
  {
   "cell_type": "code",
   "execution_count": 3,
   "metadata": {
    "collapsed": true
   },
   "outputs": [],
   "source": [
    "class PlayerStatus(Enum):\n",
    "    \n",
    "    POSSIBLE = 'Provável'\n",
    "    INJURED = 'Contundido'\n",
    "    NULL = 'Nulo'\n",
    "    DOUBT = 'Dúvida'\n",
    "    SUSPENDED = 'Suspenso'\n",
    "    UNKNOWN = 'Desconhecido'\n",
    "    \n",
    "    def __str__(self):\n",
    "        return self.value\n",
    "\n",
    "assert '{}'.format(PlayerStatus.POSSIBLE) == 'Provável'\n",
    "assert PlayerStatus.POSSIBLE == PlayerStatus('Provável')\n",
    "assert len(PlayerStatus) == 6"
   ]
  },
  {
   "cell_type": "code",
   "execution_count": 4,
   "metadata": {
    "collapsed": true
   },
   "outputs": [],
   "source": [
    "class PlayerData:\n",
    "    \n",
    "    def __init__(self, player, prices, scores, status):\n",
    "        self.player = player\n",
    "        self.prices = prices\n",
    "        self.scores = scores\n",
    "        self.status = status\n",
    "    \n",
    "    def __str__(self):\n",
    "        return str(self.player)\n",
    "\n",
    "class SeasonData:\n",
    "    \n",
    "    def __init__(self, season_name, num_rounds, players):\n",
    "        self.season_name = season_name\n",
    "        self.num_rounds = num_rounds\n",
    "        self.players = players\n",
    "    \n",
    "    def __str__(self):\n",
    "        return '{} (rounds {}, players {})'.format(self.season_name,\n",
    "                                                   self.num_rounds,\n",
    "                                                   len(self.players))"
   ]
  },
  {
   "cell_type": "code",
   "execution_count": 5,
   "metadata": {},
   "outputs": [
    {
     "name": "stdout",
     "output_type": "stream",
     "text": [
      "/home/cavani/Workspace/cartola-game\n",
      "/home/cavani/Workspace/cartola-game/data\n"
     ]
    }
   ],
   "source": [
    "import csv\n",
    "import json\n",
    "import os\n",
    "\n",
    "CARTOLA_HOME = os.path.abspath('..')\n",
    "\n",
    "print(CARTOLA_HOME)\n",
    "\n",
    "if not os.path.isdir(CARTOLA_HOME):\n",
    "    raise Exception('Cartola project is missing!')\n",
    "\n",
    "CARTOLA_DATA = os.path.join(CARTOLA_HOME, 'data')\n",
    "\n",
    "print(CARTOLA_DATA)\n",
    "\n",
    "if not os.path.isdir(CARTOLA_DATA):\n",
    "    raise Exception('Cartola data is missing!')"
   ]
  },
  {
   "cell_type": "code",
   "execution_count": 6,
   "metadata": {
    "collapsed": true
   },
   "outputs": [],
   "source": [
    "game_file = os.path.join(CARTOLA_DATA, '2015', 'game.json')\n",
    "\n",
    "if not os.path.isfile(game_file):\n",
    "    raise Exception('file not found: ' + game_file)"
   ]
  },
  {
   "cell_type": "code",
   "execution_count": 7,
   "metadata": {},
   "outputs": [
    {
     "data": {
      "text/plain": [
       "('Brasileirão 2015', '2015', 38)"
      ]
     },
     "execution_count": 7,
     "metadata": {},
     "output_type": "execute_result"
    }
   ],
   "source": [
    "def load_game(game_file):\n",
    "    with open(game_file) as f:\n",
    "        g = json.load(f)\n",
    "    return g['game_name'], g['game_season'], g['num_rounds']\n",
    "\n",
    "game_title, season_name, num_rounds = load_game(game_file)\n",
    "\n",
    "game_title, season_name, num_rounds"
   ]
  },
  {
   "cell_type": "code",
   "execution_count": 8,
   "metadata": {
    "collapsed": true
   },
   "outputs": [],
   "source": [
    "players_file = os.path.join(CARTOLA_DATA, '2015', 'players.csv')\n",
    "\n",
    "if not os.path.isfile(players_file):\n",
    "    raise Exception('file not found: ' + players_file)"
   ]
  },
  {
   "cell_type": "code",
   "execution_count": 9,
   "metadata": {},
   "outputs": [
    {
     "data": {
      "text/plain": [
       "1041"
      ]
     },
     "execution_count": 9,
     "metadata": {},
     "output_type": "execute_result"
    }
   ],
   "source": [
    "def load_players(players_file):\n",
    "    players = dict()\n",
    "    with open(players_file, newline='') as f:\n",
    "        reader = csv.reader(f)\n",
    "        next(reader) # spkip header\n",
    "        for row in reader:\n",
    "            id, name, position_name = row\n",
    "            try:\n",
    "                position = Position(position_name)\n",
    "            except ValueError:\n",
    "                print('[{}] Invalid position: {}'.format(i, position_name))\n",
    "                continue\n",
    "            players[id] = Player(name, position)\n",
    "    return players\n",
    "\n",
    "players = load_players(players_file)\n",
    "\n",
    "len(players)"
   ]
  },
  {
   "cell_type": "code",
   "execution_count": 10,
   "metadata": {
    "scrolled": true
   },
   "outputs": [
    {
     "data": {
      "text/plain": [
       "[('759',\n",
       "  Player(name='Pablo Dyego da Silva Rosa', position=<Position.FORWARD: 'Atacante'>)),\n",
       " ('822',\n",
       "  Player(name='Yago Felipe da Costa Rocha', position=<Position.MIDFIELDER: 'Meia'>)),\n",
       " ('550',\n",
       "  Player(name='Luiz Eduardo dos Santos Gonzaga', position=<Position.FORWARD: 'Atacante'>)),\n",
       " ('800',\n",
       "  Player(name='Donato Antônio Silva Neto', position=<Position.DEFENDER: 'Zagueiro'>)),\n",
       " ('375',\n",
       "  Player(name='Alejandro Martinuccio', position=<Position.FORWARD: 'Atacante'>)),\n",
       " ('1008',\n",
       "  Player(name='Kaio Silva Mendes', position=<Position.MIDFIELDER: 'Meia'>)),\n",
       " ('792',\n",
       "  Player(name='Matheus da Silva Fortes', position=<Position.FORWARD: 'Atacante'>)),\n",
       " ('557',\n",
       "  Player(name='Alex Roberto Santana Rafael ', position=<Position.GOALKEEPER: 'Goleiro'>)),\n",
       " ('738', Player(name='Thalles Lima', position=<Position.FORWARD: 'Atacante'>)),\n",
       " ('895',\n",
       "  Player(name='Jaílson Marques Siqueira', position=<Position.MIDFIELDER: 'Meia'>))]"
      ]
     },
     "execution_count": 10,
     "metadata": {},
     "output_type": "execute_result"
    }
   ],
   "source": [
    "list(players.items())[:10]"
   ]
  },
  {
   "cell_type": "code",
   "execution_count": 11,
   "metadata": {
    "collapsed": true
   },
   "outputs": [],
   "source": [
    "season_file = os.path.join(CARTOLA_DATA, '2015', 'season.csv')\n",
    "\n",
    "if not os.path.isfile(season_file):\n",
    "    raise Exception('file not found: ' + season_file)"
   ]
  },
  {
   "cell_type": "code",
   "execution_count": 12,
   "metadata": {},
   "outputs": [
    {
     "data": {
      "text/plain": [
       "1041"
      ]
     },
     "execution_count": 12,
     "metadata": {},
     "output_type": "execute_result"
    }
   ],
   "source": [
    "def load_data(players, season_file, num_rounds):\n",
    "    players_data = dict()\n",
    "    \n",
    "    with open(season_file, newline='') as f:\n",
    "        reader = csv.reader(f)\n",
    "        next(reader) # skip header\n",
    "        for i, row in enumerate(reader):\n",
    "            player_id = row[0]\n",
    "            round_i = row[1]\n",
    "            status_name = row[2]\n",
    "            price = row[3]\n",
    "            score = row[4]\n",
    "            \n",
    "            if player_id not in players:\n",
    "                print('[{}] Player not found: {}'.format(i, player_id))\n",
    "                continue\n",
    "            try:\n",
    "                round_i = int(round_i) - 1\n",
    "            except ValueError:\n",
    "                print('[{}] Invalid round: {}'.format(i, round_i))\n",
    "                continue\n",
    "            if round_i < 0 or round_i >= num_rounds:\n",
    "                print('[{}] Round out of bounds: {} ({})'.format(i, round_i + 1, num_rounds))\n",
    "                continue\n",
    "            try:\n",
    "                status = PlayerStatus(status_name)\n",
    "            except ValueError:\n",
    "                print('[{}] Invalid status: {}'.format(i, status_name))\n",
    "                continue\n",
    "            try:\n",
    "                price = float(price)\n",
    "            except ValueError:\n",
    "                print('[{}] Invalid price: {}'.format(i, price))\n",
    "                continue\n",
    "            try:\n",
    "                score = float(score)\n",
    "            except ValueError:\n",
    "                print('[{}] Invalid score: {}'.format(i, score))\n",
    "                continue\n",
    "            \n",
    "            if player_id not in players_data:\n",
    "                _player = players[player_id]\n",
    "                _prices = [0.0] * num_rounds\n",
    "                _scores = [0.0] * num_rounds\n",
    "                _status = [PlayerStatus.UNKNOWN] * num_rounds\n",
    "                players_data[player_id] = PlayerData(_player,\n",
    "                                                     _prices,\n",
    "                                                     _scores,\n",
    "                                                     _status)\n",
    "                \n",
    "            player_data = players_data[player_id]\n",
    "            player_data.prices[round_i] = price\n",
    "            player_data.scores[round_i] = score\n",
    "            player_data.status[round_i] = status\n",
    "    \n",
    "    return list(players_data.values())\n",
    "\n",
    "players_data = load_data(players, season_file, num_rounds)\n",
    "\n",
    "len(players_data)"
   ]
  },
  {
   "cell_type": "code",
   "execution_count": 13,
   "metadata": {},
   "outputs": [
    {
     "name": "stdout",
     "output_type": "stream",
     "text": [
      "Pablo Dyego da Silva Rosa (Atacante)\n",
      "Yago Moreira Silva (Atacante)\n",
      "Geuvânio Santos Silva (Atacante)\n",
      "Patrick Bezerra do Nascimento (Meia)\n",
      "Samuel Portugal (Goleiro)\n",
      "Luiz Felipe Ventura dos Santos (Goleiro)\n",
      "Matheus da Silva Fortes (Atacante)\n",
      "Alex Roberto Santana Rafael  (Goleiro)\n",
      "Charles Fernando Basílio da Silva (Meia)\n",
      "Petros Mateus dos Santos Araújo (Meia)\n"
     ]
    }
   ],
   "source": [
    "for p in players_data[:10]:\n",
    "    print(p)"
   ]
  },
  {
   "cell_type": "code",
   "execution_count": 14,
   "metadata": {},
   "outputs": [
    {
     "name": "stdout",
     "output_type": "stream",
     "text": [
      "2015 (rounds 38, players 1041)\n"
     ]
    }
   ],
   "source": [
    "def load_season(season_name, data_path=CARTOLA_DATA):\n",
    "    season_path = os.path.join(data_path, season_name)\n",
    "    game_file = os.path.join(season_path, 'game.json')\n",
    "    players_file = os.path.join(season_path, 'players.csv')\n",
    "    season_file = os.path.join(season_path, 'season.csv')\n",
    "    \n",
    "    if not os.path.isfile(game_file):\n",
    "        raise Exception('file not found: ' + game_file)\n",
    "    if not os.path.isfile(players_file):\n",
    "        raise Exception('file not found: ' + players_file)\n",
    "    if not os.path.isfile(season_file):\n",
    "        raise Exception('file not found: ' + season_file)\n",
    "    \n",
    "    game_title, season_name, num_rounds = load_game(game_file)\n",
    "    players = load_players(players_file)\n",
    "    players_data = load_data(players, season_file, num_rounds)\n",
    "    \n",
    "    return SeasonData(season_name, num_rounds, players_data)\n",
    "\n",
    "season = load_season('2015')\n",
    "\n",
    "print(season)"
   ]
  },
  {
   "cell_type": "markdown",
   "metadata": {},
   "source": [
    "### Game Model\n",
    "\n",
    "`Team`\n",
    "\n",
    "* `formation` (Formation)\n",
    "* `players` (Player)\n",
    "\n",
    "`Formation` (enum)\n",
    "\n",
    "* properties:\n",
    "    * `label` (string)\n",
    "    * `positions` (list[PositionSlot])\n",
    "* members:\n",
    "    * `F343`\n",
    "    * `F352`\n",
    "    * `F433`\n",
    "    * `F442`\n",
    "    * `F451`\n",
    "    * `F532`\n",
    "    * `F541`\n",
    "\n",
    "`PositionSlot`:\n",
    "\n",
    "* `position` (Position)\n",
    "* `size` (int)\n"
   ]
  },
  {
   "cell_type": "code",
   "execution_count": 15,
   "metadata": {},
   "outputs": [
    {
     "name": "stdout",
     "output_type": "stream",
     "text": [
      "PositionSlot(position=<Position.GOALKEEPER: 'Goleiro'>, size=1)\n"
     ]
    }
   ],
   "source": [
    "from collections import namedtuple\n",
    "\n",
    "PositionSlot = namedtuple('PositionSlot', ['position', 'size'])\n",
    "\n",
    "p = PositionSlot(Position.GOALKEEPER, 1)\n",
    "\n",
    "print(p)"
   ]
  },
  {
   "cell_type": "code",
   "execution_count": 16,
   "metadata": {
    "collapsed": true
   },
   "outputs": [],
   "source": [
    "from enum import Enum\n",
    "\n",
    "GOALKEEPER = Position.GOALKEEPER\n",
    "WINGER = Position.WINGER\n",
    "DEFENDER = Position.DEFENDER\n",
    "MIDFIELDER = Position.MIDFIELDER\n",
    "FORWARD = Position.FORWARD\n",
    "COACH = Position.COACH\n",
    "\n",
    "def f(text, *p): return text, list(map(PositionSlot._make, p))\n",
    "\n",
    "class Formation(Enum):\n",
    "    \n",
    "    F343 = f('3-4-3',\n",
    "             (GOALKEEPER, 1),\n",
    "             (DEFENDER, 3),\n",
    "             (MIDFIELDER, 4),\n",
    "             (FORWARD, 3),\n",
    "             (COACH, 1))\n",
    "    \n",
    "    F352 = f('3-5-2',\n",
    "             (GOALKEEPER, 1),\n",
    "             (DEFENDER, 3),\n",
    "             (MIDFIELDER, 5),\n",
    "             (FORWARD, 2),\n",
    "             (COACH, 1))\n",
    "\n",
    "    F433 = f('4-3-3',\n",
    "             (GOALKEEPER, 1),\n",
    "             (WINGER, 2),\n",
    "             (DEFENDER, 2),\n",
    "             (MIDFIELDER, 3),\n",
    "             (FORWARD, 3),\n",
    "             (COACH, 1))\n",
    "    \n",
    "    F442 = f('4-4-2',\n",
    "             (GOALKEEPER, 1),\n",
    "             (WINGER, 2),\n",
    "             (DEFENDER, 2),\n",
    "             (MIDFIELDER, 4),\n",
    "             (FORWARD, 2),\n",
    "             (COACH, 1))\n",
    "    \n",
    "    F451 = f('4-5-1',\n",
    "             (GOALKEEPER, 1),\n",
    "             (WINGER, 2),\n",
    "             (DEFENDER, 2),\n",
    "             (MIDFIELDER, 5),\n",
    "             (FORWARD, 1),\n",
    "             (COACH, 1))\n",
    "\n",
    "    F532 = f('5-3-2',\n",
    "             (GOALKEEPER, 1),\n",
    "             (WINGER, 2),\n",
    "             (DEFENDER, 3),\n",
    "             (MIDFIELDER, 3),\n",
    "             (FORWARD, 2),\n",
    "             (COACH, 1))\n",
    "    \n",
    "    F541 = f('5-4-1',\n",
    "             (GOALKEEPER, 1),\n",
    "             (WINGER, 2),\n",
    "             (DEFENDER, 3),\n",
    "             (MIDFIELDER, 3),\n",
    "             (FORWARD, 2),\n",
    "             (COACH, 1))\n",
    "    \n",
    "    @property\n",
    "    def label(self):\n",
    "        return self.value[0]\n",
    "\n",
    "    @property\n",
    "    def positions(self):\n",
    "        return self.value[1]\n",
    "    \n",
    "    def __str__(self):\n",
    "        positions = [str(p.position) for p in self.positions for _ in range(p.size)]\n",
    "        return '{}\\n\\n{}'.format(self.label, '\\n'.join(positions))"
   ]
  },
  {
   "cell_type": "code",
   "execution_count": 17,
   "metadata": {},
   "outputs": [
    {
     "data": {
      "text/plain": [
       "7"
      ]
     },
     "execution_count": 17,
     "metadata": {},
     "output_type": "execute_result"
    }
   ],
   "source": [
    "len(Formation)"
   ]
  },
  {
   "cell_type": "code",
   "execution_count": 18,
   "metadata": {},
   "outputs": [
    {
     "data": {
      "text/plain": [
       "<Formation.F343: ('3-4-3', [PositionSlot(position=<Position.GOALKEEPER: 'Goleiro'>, size=1), PositionSlot(position=<Position.DEFENDER: 'Zagueiro'>, size=3), PositionSlot(position=<Position.MIDFIELDER: 'Meia'>, size=4), PositionSlot(position=<Position.FORWARD: 'Atacante'>, size=3), PositionSlot(position=<Position.COACH: 'Técnico'>, size=1)])>"
      ]
     },
     "execution_count": 18,
     "metadata": {},
     "output_type": "execute_result"
    }
   ],
   "source": [
    "Formation.F343"
   ]
  },
  {
   "cell_type": "code",
   "execution_count": 19,
   "metadata": {},
   "outputs": [
    {
     "name": "stdout",
     "output_type": "stream",
     "text": [
      "3-4-3\n",
      "\n",
      "Goleiro\n",
      "Zagueiro\n",
      "Zagueiro\n",
      "Zagueiro\n",
      "Meia\n",
      "Meia\n",
      "Meia\n",
      "Meia\n",
      "Atacante\n",
      "Atacante\n",
      "Atacante\n",
      "Técnico\n"
     ]
    }
   ],
   "source": [
    "print(Formation.F343)"
   ]
  },
  {
   "cell_type": "code",
   "execution_count": 20,
   "metadata": {
    "collapsed": true
   },
   "outputs": [],
   "source": [
    "F343 = Formation.F343\n",
    "F352 = Formation.F352\n",
    "F433 = Formation.F433\n",
    "F442 = Formation.F442\n",
    "F451 = Formation.F451\n",
    "F532 = Formation.F532\n",
    "F541 = Formation.F541"
   ]
  },
  {
   "cell_type": "code",
   "execution_count": 21,
   "metadata": {},
   "outputs": [
    {
     "name": "stdout",
     "output_type": "stream",
     "text": [
      "no players\n",
      "\n",
      "Missing Goleiro (expected 1): 0\n",
      "Missing Zagueiro (expected 3): 0\n",
      "Missing Meia (expected 4): 0\n",
      "Missing Atacante (expected 3): 0\n",
      "Missing Técnico (expected 1): 0\n",
      "\n",
      "repeated players\n",
      "\n",
      "Missing Zagueiro (expected 3): 1\n",
      "Missing Meia (expected 4): 1\n",
      "Missing Atacante (expected 3): 1\n",
      "\n",
      "good players\n",
      "\n",
      "(empty)\n"
     ]
    }
   ],
   "source": [
    "from collections import defaultdict\n",
    "\n",
    "def team_is_valid(formation, players, verbose=False):\n",
    "    if not isinstance(players, set):\n",
    "        players = set(players) # unique\n",
    "    count = defaultdict(int)\n",
    "    for player in players:\n",
    "        count[player.position] += 1\n",
    "    valid = True\n",
    "    for position, size in formation.positions:\n",
    "        if size != count[position]:\n",
    "            valid = False\n",
    "            if not verbose:\n",
    "                break\n",
    "            print('Missing {} (expected {}): {}' \\\n",
    "                  .format(position, size, count[position]))\n",
    "    return valid\n",
    "\n",
    "print('no players\\n')\n",
    "assert not team_is_valid(F343, [], True)\n",
    "\n",
    "print('\\nrepeated players\\n')\n",
    "\n",
    "invalid_team = [Player('g', GOALKEEPER)]\n",
    "invalid_team += [Player('d', DEFENDER)] * 3\n",
    "invalid_team += [Player('m', MIDFIELDER)] * 4\n",
    "invalid_team += [Player('f', FORWARD)] * 3\n",
    "invalid_team += [Player('c', COACH)]\n",
    "\n",
    "assert not team_is_valid(F343, invalid_team, True)\n",
    "\n",
    "print('\\ngood players\\n\\n(empty)')\n",
    "\n",
    "valid_team = [Player('a', GOALKEEPER)]\n",
    "valid_team += [Player('d {}'.format(i+1), DEFENDER) for i in range(3)]\n",
    "valid_team += [Player('m {}'.format(i+1), MIDFIELDER) for i in range(4)]\n",
    "valid_team += [Player('f {}'.format(i+1), FORWARD) for i in range(3)]\n",
    "valid_team += [Player('e', COACH)]\n",
    "\n",
    "assert team_is_valid(F343, valid_team, True)"
   ]
  },
  {
   "cell_type": "code",
   "execution_count": 22,
   "metadata": {},
   "outputs": [
    {
     "name": "stdout",
     "output_type": "stream",
     "text": [
      "3-4-3\n",
      "\n",
      "Goleiro -> a\n",
      "Zagueiro -> d 1\n",
      "Zagueiro -> d 2\n",
      "Zagueiro -> d 3\n",
      "Meia -> m 1\n",
      "Meia -> m 2\n",
      "Meia -> m 3\n",
      "Meia -> m 4\n",
      "Atacante -> f 1\n",
      "Atacante -> f 2\n",
      "Atacante -> f 3\n",
      "Técnico -> e\n"
     ]
    }
   ],
   "source": [
    "class Team:\n",
    "    \n",
    "    def __init__(self, formation, players, validate=True):\n",
    "        if validate and not team_is_valid(formation, players):\n",
    "            raise Exception('Team is invalid!')\n",
    "        self.formation = formation\n",
    "        self.players = set(players)\n",
    "    \n",
    "    def __str__(self):\n",
    "        formation = self.formation.label\n",
    "        players = defaultdict(list)\n",
    "        for player in self.players:\n",
    "            players[player.position].append(player.name)\n",
    "        team = ('{} -> {}'.format(pos, name)\n",
    "                for pos, _ in self.formation.positions\n",
    "                for name in sorted(players[pos]))\n",
    "        return '{}\\n\\n{}'.format(formation, '\\n'.join(team))\n",
    "\n",
    "    \n",
    "t = Team(F343, valid_team)\n",
    "print(t)"
   ]
  }
 ],
 "metadata": {
  "kernelspec": {
   "display_name": "Python 3",
   "language": "python",
   "name": "python3"
  },
  "language_info": {
   "codemirror_mode": {
    "name": "ipython",
    "version": 3
   },
   "file_extension": ".py",
   "mimetype": "text/x-python",
   "name": "python",
   "nbconvert_exporter": "python",
   "pygments_lexer": "ipython3",
   "version": "3.5.3"
  }
 },
 "nbformat": 4,
 "nbformat_minor": 1
}
